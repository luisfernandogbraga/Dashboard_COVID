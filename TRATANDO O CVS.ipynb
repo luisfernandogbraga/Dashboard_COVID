{
 "cells": [
  {
   "cell_type": "code",
   "execution_count": 1,
   "metadata": {},
   "outputs": [],
   "source": [
    "import pandas as pd"
   ]
  },
  {
   "cell_type": "markdown",
   "metadata": {},
   "source": [
    "# COVID VACINAS"
   ]
  },
  {
   "cell_type": "code",
   "execution_count": 5,
   "metadata": {},
   "outputs": [],
   "source": [
    "csv_1= 'covid-vaccines.csv'\n",
    "df_1= pd.read_csv(csv_1)\n",
    "\n",
    "mapeamento_colunas = {\n",
    "    'country': 'país',\n",
    "    'population': 'população',\n",
    "    'total': 'total',\n",
    "    'one_shot': 'uma_dose',\n",
    "    'one_shot_perc': 'uma_dose_perc',\n",
    "    'two_shots': 'duas_doses',\n",
    "    'two_shots_perc': 'duas_doses_perc',\n",
    "    'three_shots': 'três_doses',\n",
    "    'three_shots_perc': 'três_doses_perc',\n",
    "    'month': 'mês',\n",
    "    'year': 'ano'\n",
    "}\n",
    "\n",
    "df_1 = df_1.rename(columns=mapeamento_colunas) #tradução das colunas usando o método rename\n",
    "\n",
    "df_1.to_csv('covid-vaccines.csv', index=False)\n",
    "# index=False evita que o índice seja salvo como coluna"
   ]
  },
  {
   "cell_type": "markdown",
   "metadata": {},
   "source": [
    "# COVID CASOS"
   ]
  },
  {
   "cell_type": "code",
   "execution_count": 22,
   "metadata": {},
   "outputs": [],
   "source": [
    "csv= 'covid-cases.csv'\n",
    "df= pd.read_csv(csv)\n",
    "\n",
    "# traduzindo as colunas\n",
    "df.rename(columns={\n",
    "    'country': 'País',\n",
    "    'state': 'Estado',\n",
    "    'population': 'População',\n",
    "    'confirmed': 'Confirmados',\n",
    "    'confirmed_1d': 'Confirmados_1d',\n",
    "    'confirmed_moving_avg_7d': 'Média_Móvel_Confirmados_7d',\n",
    "    'confirmed_moving_avg_7d_rate_14d': 'Taxa_MM_Confirmados_7d_14d',\n",
    "    'confirmed_trend': 'Tendência_Confirmados',\n",
    "    'deaths': 'Mortes',\n",
    "    'deaths_1d': 'Mortes_1d',\n",
    "    'deaths_moving_avg_7d': 'Média_Móvel_Mortes_7d',\n",
    "    'deaths_moving_avg_7d_rate_14d': 'Taxa_MM_Mortes_7d_14d',\n",
    "    'deaths_trend': 'Tendência_Mortes',\n",
    "    'month': 'Mês',\n",
    "    'year': 'Ano'\n",
    "},inplace=True\n",
    ")\n",
    "# inplace aplica as alterações diretamente ao df "
   ]
  },
  {
   "cell_type": "code",
   "execution_count": null,
   "metadata": {},
   "outputs": [],
   "source": [
    "df['Tendência_Confirmados'].unique()\n"
   ]
  },
  {
   "cell_type": "code",
   "execution_count": null,
   "metadata": {},
   "outputs": [],
   "source": [
    "df['Tendência_Mortes'].unique()\n"
   ]
  },
  {
   "cell_type": "code",
   "execution_count": 28,
   "metadata": {},
   "outputs": [],
   "source": [
    "# traduzindo informações das colunas\n",
    "\n",
    "mapeamento_tendencia_confirmados = {\n",
    "    'upward': 'Crescendo',\n",
    "    'stable': 'Estável',\n",
    "    'downward': 'Decrescendo'\n",
    "}\n",
    "\n",
    "mapeamento_Mortes = {\n",
    "    'upward': 'Crescendo',\n",
    "    'stable': 'Estável',\n",
    "    'downward': 'Decrescendo'\n",
    "}\n",
    "\n",
    "\n",
    "df['Tendência_Confirmados']= df['Tendência_Confirmados'].map(mapeamento_tendencia_confirmados)\n",
    "df['Tendência_Mortes']= df['Tendência_Mortes'].map(mapeamento_Mortes)\n"
   ]
  },
  {
   "cell_type": "code",
   "execution_count": null,
   "metadata": {},
   "outputs": [],
   "source": [
    "df.head()"
   ]
  },
  {
   "cell_type": "code",
   "execution_count": 35,
   "metadata": {},
   "outputs": [],
   "source": [
    "df.to_csv('covid-cases.csv', index=False)\n",
    "# index=False evita que o índice seja salvo como coluna\n"
   ]
  }
 ],
 "metadata": {
  "kernelspec": {
   "display_name": "Python 3",
   "language": "python",
   "name": "python3"
  },
  "language_info": {
   "codemirror_mode": {
    "name": "ipython",
    "version": 3
   },
   "file_extension": ".py",
   "mimetype": "text/x-python",
   "name": "python",
   "nbconvert_exporter": "python",
   "pygments_lexer": "ipython3",
   "version": "3.11.2"
  },
  "orig_nbformat": 4
 },
 "nbformat": 4,
 "nbformat_minor": 2
}
